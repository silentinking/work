{
 "cells": [
  {
   "cell_type": "code",
   "execution_count": 7,
   "id": "447896d2-3f4d-447f-a07f-fb95a7671c24",
   "metadata": {
    "tags": []
   },
   "outputs": [
    {
     "name": "stdin",
     "output_type": "stream",
     "text": [
      "輸入第一個正整數:  6\n",
      "輸入第二個正整數:  4\n"
     ]
    },
    {
     "name": "stdout",
     "output_type": "stream",
     "text": [
      "和: 10\n",
      "差: 2\n",
      "積: 24\n",
      "商: 1.5\n",
      "餘: 2\n"
     ]
    }
   ],
   "source": [
    "num1 = int(input(\"輸入第一個正整數: \"))\n",
    "num2 = int(input(\"輸入第二個正整數: \"))\n",
    "\n",
    "sum_result = num1 + num2\n",
    "diff_result = num1 - num2\n",
    "product_result = num1 * num2\n",
    "quotient_result = num1 / num2\n",
    "remain_result = num1 % num2\n",
    "    \n",
    "print(f\"和: {sum_result}\")\n",
    "print(f\"差: {diff_result}\")\n",
    "print(f\"積: {product_result}\")\n",
    "print(f\"商: {quotient_result}\")\n",
    "print(f\"餘: {remain_result}\")"
   ]
  },
  {
   "cell_type": "code",
   "execution_count": null,
   "id": "0b31f8f4-12d8-4460-a880-af6ecd192241",
   "metadata": {},
   "outputs": [],
   "source": []
  }
 ],
 "metadata": {
  "kernelspec": {
   "display_name": "Python 3 (ipykernel)",
   "language": "python",
   "name": "python3"
  },
  "language_info": {
   "codemirror_mode": {
    "name": "ipython",
    "version": 3
   },
   "file_extension": ".py",
   "mimetype": "text/x-python",
   "name": "python",
   "nbconvert_exporter": "python",
   "pygments_lexer": "ipython3",
   "version": "3.11.5"
  }
 },
 "nbformat": 4,
 "nbformat_minor": 5
}
