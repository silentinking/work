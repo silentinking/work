{
 "cells": [
  {
   "cell_type": "code",
   "execution_count": 1,
   "id": "6feff4b3-3a86-4e91-9938-0ba6ae99d5d0",
   "metadata": {
    "tags": []
   },
   "outputs": [
    {
     "name": "stdout",
     "output_type": "stream",
     "text": [
      "Hello I'm Leo Mathon.\n",
      "Today is my 18th birthday.\n"
     ]
    }
   ],
   "source": [
    "first_name=\"Leo\"\n",
    "last_name=\"Mathon\"\n",
    "print(f\"Hello I'm {first_name} {last_name}.\")\n",
    "print(f\"Today is my { 10 + 8 }th birthday.\")"
   ]
  },
  {
   "cell_type": "code",
   "execution_count": null,
   "id": "e58ed72d-fad4-4a8e-b4d2-2bc26ba5fc30",
   "metadata": {},
   "outputs": [],
   "source": []
  }
 ],
 "metadata": {
  "kernelspec": {
   "display_name": "Python 3 (ipykernel)",
   "language": "python",
   "name": "python3"
  },
  "language_info": {
   "codemirror_mode": {
    "name": "ipython",
    "version": 3
   },
   "file_extension": ".py",
   "mimetype": "text/x-python",
   "name": "python",
   "nbconvert_exporter": "python",
   "pygments_lexer": "ipython3",
   "version": "3.11.5"
  }
 },
 "nbformat": 4,
 "nbformat_minor": 5
}
