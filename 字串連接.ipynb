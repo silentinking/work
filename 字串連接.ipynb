{
 "cells": [
  {
   "cell_type": "code",
   "execution_count": 1,
   "id": "cec60f2e-a914-48a6-95fc-3352b85b5419",
   "metadata": {
    "tags": []
   },
   "outputs": [
    {
     "name": "stdout",
     "output_type": "stream",
     "text": [
      "Hi, I'm Leo Mathon.\n"
     ]
    }
   ],
   "source": [
    "first_name=\"Leo\"\n",
    "last_name=\"Mathon\"\n",
    "print(\"Hi, I'm \"+first_name+\" \"+last_name+\".\")"
   ]
  },
  {
   "cell_type": "code",
   "execution_count": null,
   "id": "6018efa8-f6a9-4cf5-9342-39933e7eab8a",
   "metadata": {},
   "outputs": [],
   "source": []
  }
 ],
 "metadata": {
  "kernelspec": {
   "display_name": "Python 3 (ipykernel)",
   "language": "python",
   "name": "python3"
  },
  "language_info": {
   "codemirror_mode": {
    "name": "ipython",
    "version": 3
   },
   "file_extension": ".py",
   "mimetype": "text/x-python",
   "name": "python",
   "nbconvert_exporter": "python",
   "pygments_lexer": "ipython3",
   "version": "3.11.5"
  }
 },
 "nbformat": 4,
 "nbformat_minor": 5
}
