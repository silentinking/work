{
 "cells": [
  {
   "cell_type": "code",
   "execution_count": 1,
   "id": "08d5a243-0cc8-46fc-bcb3-97b1d23c3330",
   "metadata": {
    "tags": []
   },
   "outputs": [
    {
     "name": "stdout",
     "output_type": "stream",
     "text": [
      "5\n"
     ]
    }
   ],
   "source": [
    "box_tuple=['Aa', 'Bb', 'Cc', 'Dd', 'Ee']\n",
    "length=len(box_tuple)\n",
    "print(length)"
   ]
  },
  {
   "cell_type": "code",
   "execution_count": 3,
   "id": "7415f59d-72ce-4727-9f03-0fe6c05be618",
   "metadata": {
    "tags": []
   },
   "outputs": [
    {
     "name": "stdout",
     "output_type": "stream",
     "text": [
      "Aa\n",
      "Ee\n"
     ]
    }
   ],
   "source": [
    "box_tuple=['Aa', 'Bb', 'Cc', 'Dd', 'Ee']\n",
    "box1, box2, box3, box4, box5 = box_tuple\n",
    "print(box1)\n",
    "print(box5)"
   ]
  },
  {
   "cell_type": "code",
   "execution_count": 4,
   "id": "897b903d-b8eb-4911-a8b6-3da09e1700e1",
   "metadata": {
    "tags": []
   },
   "outputs": [
    {
     "name": "stdout",
     "output_type": "stream",
     "text": [
      "True\n",
      "False\n"
     ]
    }
   ],
   "source": [
    "box_tuple=['Aa', 'Bb', 'Cc', 'Dd', 'Ee']\n",
    "print('Cc' in box_tuple)\n",
    "print('Vv' in box_tuple)"
   ]
  },
  {
   "cell_type": "code",
   "execution_count": 5,
   "id": "7b2df893-bb7a-440b-8eba-41c0510aebd2",
   "metadata": {
    "tags": []
   },
   "outputs": [
    {
     "name": "stdout",
     "output_type": "stream",
     "text": [
      "Ee\n",
      "Aa\n"
     ]
    }
   ],
   "source": [
    "box_tuple=['Aa', 'Bb', 'Cc', 'Dd', 'Ee']\n",
    "print(box_tuple[-1])\n",
    "print(box_tuple[0])"
   ]
  },
  {
   "cell_type": "code",
   "execution_count": null,
   "id": "473007e0-2246-41fb-b974-4a88c3823ff9",
   "metadata": {},
   "outputs": [],
   "source": []
  }
 ],
 "metadata": {
  "kernelspec": {
   "display_name": "Python 3 (ipykernel)",
   "language": "python",
   "name": "python3"
  },
  "language_info": {
   "codemirror_mode": {
    "name": "ipython",
    "version": 3
   },
   "file_extension": ".py",
   "mimetype": "text/x-python",
   "name": "python",
   "nbconvert_exporter": "python",
   "pygments_lexer": "ipython3",
   "version": "3.11.5"
  }
 },
 "nbformat": 4,
 "nbformat_minor": 5
}
