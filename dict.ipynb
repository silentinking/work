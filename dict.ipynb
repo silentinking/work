{
 "cells": [
  {
   "cell_type": "code",
   "execution_count": 1,
   "id": "c8bb8313-8879-41c2-8c87-8a85bf662a90",
   "metadata": {
    "tags": []
   },
   "outputs": [
    {
     "name": "stdout",
     "output_type": "stream",
     "text": [
      "{'name': 'Mathon', 'age': 25, 'gender': 'man', 'city': 'Miaoli'}\n"
     ]
    }
   ],
   "source": [
    "member = {\n",
    "    \"name\": \"Mathon\",\n",
    "    \"age\": 20,\n",
    "    \"gender\": \"man\"\n",
    "}\n",
    "\n",
    "member[\"age\"] = 25\n",
    "member[\"city\"] = \"Miaoli\"\n",
    "\n",
    "print(member)"
   ]
  },
  {
   "cell_type": "code",
   "execution_count": null,
   "id": "420fd62e-0d4e-48c0-927a-2e17f2154609",
   "metadata": {},
   "outputs": [],
   "source": []
  }
 ],
 "metadata": {
  "kernelspec": {
   "display_name": "Python 3 (ipykernel)",
   "language": "python",
   "name": "python3"
  },
  "language_info": {
   "codemirror_mode": {
    "name": "ipython",
    "version": 3
   },
   "file_extension": ".py",
   "mimetype": "text/x-python",
   "name": "python",
   "nbconvert_exporter": "python",
   "pygments_lexer": "ipython3",
   "version": "3.11.5"
  }
 },
 "nbformat": 4,
 "nbformat_minor": 5
}
