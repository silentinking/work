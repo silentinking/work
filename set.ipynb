{
 "cells": [
  {
   "cell_type": "code",
   "execution_count": 16,
   "id": "5fd56464-f1dc-4d6c-aa72-d3f419ceb6f9",
   "metadata": {
    "tags": []
   },
   "outputs": [
    {
     "name": "stdout",
     "output_type": "stream",
     "text": [
      "{1, 3, 6}\n",
      "{1, 3, 6}\n",
      "set()\n",
      "{3, 4, 5}\n"
     ]
    }
   ],
   "source": [
    "room_set = {1, 2, 3}\n",
    "another_set = set({3, 4, 5})\n",
    "\n",
    "room_set.add(6)\n",
    "room_set.remove(2)\n",
    "\n",
    "print(room_set)\n",
    "\n",
    "room_set.discard(7)\n",
    "print(room_set)\n",
    "\n",
    "room_set.clear()\n",
    "print(room_set)\n",
    "\n",
    "new_set = another_set.copy()\n",
    "print(new_set)"
   ]
  },
  {
   "cell_type": "code",
   "execution_count": null,
   "id": "f9be3bb0-b63c-4ef4-8982-7e4f74569c63",
   "metadata": {},
   "outputs": [],
   "source": []
  }
 ],
 "metadata": {
  "kernelspec": {
   "display_name": "Python 3 (ipykernel)",
   "language": "python",
   "name": "python3"
  },
  "language_info": {
   "codemirror_mode": {
    "name": "ipython",
    "version": 3
   },
   "file_extension": ".py",
   "mimetype": "text/x-python",
   "name": "python",
   "nbconvert_exporter": "python",
   "pygments_lexer": "ipython3",
   "version": "3.11.5"
  }
 },
 "nbformat": 4,
 "nbformat_minor": 5
}
