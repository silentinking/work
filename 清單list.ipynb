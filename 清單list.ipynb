{
 "cells": [
  {
   "cell_type": "code",
   "execution_count": 1,
   "id": "33bfbb7b-b7e0-41b7-8bfa-a364812ba6cc",
   "metadata": {
    "tags": []
   },
   "outputs": [],
   "source": [
    "Animal=['cat', 'dog', 'rabbit']\n",
    "numbers=[1, 2, 3]\n",
    "mix_list=[1, 'cat', True, 3.14]"
   ]
  },
  {
   "cell_type": "code",
   "execution_count": 2,
   "id": "5c740cb6-4de7-4762-8b13-08165b22403f",
   "metadata": {
    "tags": []
   },
   "outputs": [
    {
     "name": "stdout",
     "output_type": "stream",
     "text": [
      "cat\n",
      "rabbit\n"
     ]
    }
   ],
   "source": [
    "Animal=['cat', 'dog', 'rabbit']\n",
    "print(Animal[0])\n",
    "print(Animal[2])"
   ]
  },
  {
   "cell_type": "code",
   "execution_count": 3,
   "id": "ac152815-9fd8-48e7-85d1-d2cc18ddfc70",
   "metadata": {
    "tags": []
   },
   "outputs": [
    {
     "name": "stdout",
     "output_type": "stream",
     "text": [
      "['cat', 'dragon', 'rabbit']\n"
     ]
    }
   ],
   "source": [
    "Animal=['cat', 'dog', 'rabbit']\n",
    "Animal[1]=\"dragon\"\n",
    "print(Animal)"
   ]
  },
  {
   "cell_type": "code",
   "execution_count": 4,
   "id": "728cbf2f-8f07-4a7b-bcae-a9bcaf33354a",
   "metadata": {
    "tags": []
   },
   "outputs": [
    {
     "name": "stdout",
     "output_type": "stream",
     "text": [
      "['cat', 'dog', 'rabbit', 'pig']\n"
     ]
    }
   ],
   "source": [
    "Animal=['cat', 'dog', 'rabbit']\n",
    "Animal.append('pig')\n",
    "print(Animal)"
   ]
  },
  {
   "cell_type": "code",
   "execution_count": 6,
   "id": "279366cc-e95e-4261-8e90-b80b1918f0f3",
   "metadata": {
    "tags": []
   },
   "outputs": [
    {
     "name": "stdout",
     "output_type": "stream",
     "text": [
      "['cat', 'rabbit']\n"
     ]
    }
   ],
   "source": [
    "Animal=['cat', 'dog', 'rabbit']\n",
    "del Animal[1]\n",
    "print(Animal)"
   ]
  },
  {
   "cell_type": "code",
   "execution_count": null,
   "id": "3cfa3893-f047-4e0d-b290-fe0ba432372f",
   "metadata": {},
   "outputs": [],
   "source": []
  }
 ],
 "metadata": {
  "kernelspec": {
   "display_name": "Python 3 (ipykernel)",
   "language": "python",
   "name": "python3"
  },
  "language_info": {
   "codemirror_mode": {
    "name": "ipython",
    "version": 3
   },
   "file_extension": ".py",
   "mimetype": "text/x-python",
   "name": "python",
   "nbconvert_exporter": "python",
   "pygments_lexer": "ipython3",
   "version": "3.11.5"
  }
 },
 "nbformat": 4,
 "nbformat_minor": 5
}
